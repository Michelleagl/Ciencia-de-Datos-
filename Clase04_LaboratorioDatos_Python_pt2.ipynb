{
 "cells": [
  {
   "cell_type": "markdown",
   "id": "c6563f37",
   "metadata": {},
   "source": [
    "# **Sesión 4: Cálculo de Indicadores (KPIs)**\n",
    "\n",
    "**Objetivo:** Los estudiantes aprenderán a calcular indicadores clave como el Costo de Adquisición de Clientes (CAC) y el Valor de Vida del Cliente (LTV) utilizando datos reales de una startup ficticia, y a analizar cómo estos KPIs pueden influir en las decisiones estratégicas de negocio.\n",
    "\n",
    "---\n",
    "\n",
    "## **Estructura de la clase**\n",
    "\n",
    "### **1. Introducción al caso práctico (10 minutos)**\n",
    "\n",
    "**Escenario:**\n",
    "Eres parte de la junta directiva de una startup ficticia en el sector de comercio electrónico. El equipo directivo necesita entender cómo optimizar sus estrategias de marketing y mejorar el retorno sobre inversión. Para ello, solicita las siguientes métricas:\n",
    "1. **Costo de Adquisición de Clientes (CAC):** ¿Cuánto cuesta adquirir un cliente por mes?\n",
    "2. **Valor de Vida del Cliente (LTV):** ¿Cuál es el valor promedio generado por cliente y cohort?\n",
    "3. **Análisis:** ¿Cuál es el cliente con mayor LTV? ¿Cuál es el cohort con el mayor LTV promedio?\n",
    "\n",
    "---"
   ]
  },
  {
   "cell_type": "markdown",
   "id": "d938a4a6-ece0-471a-b3d3-8bf801cc3570",
   "metadata": {},
   "source": [
    "### **2. Introducción a las funciones en Python (10 minutos)**\n",
    "\n",
    "#### **¿Qué es una función y cuándo se usa?**\n",
    "\n",
    "Una función en Python es un bloque de código reutilizable que realiza una tarea específica. Se utiliza para:\n",
    "- Evitar duplicar código.\n",
    "- Organizar y estructurar mejor los programas.\n",
    "- Facilitar la depuración y el mantenimiento.\n",
    "- Hacer el código más legible y reutilizable.\n",
    "\n",
    "**Sintaxis básica:**"
   ]
  },
  {
   "cell_type": "code",
   "execution_count": null,
   "id": "70cbed14-653e-456e-8a0c-f0b2d4b750ec",
   "metadata": {},
   "outputs": [],
   "source": [
    "# Definición de una función\n",
    "def nombre_funcion(parametro1, parametro2):\n",
    "    \"\"\"Descripción de lo que hace la función.\"\"\"\n",
    "    # Código de la función\n",
    "    return resultado\n",
    "\n",
    "# Llamada a la función\n",
    "resultado = nombre_funcion(arg1, arg2)"
   ]
  },
  {
   "cell_type": "markdown",
   "id": "2fee11a8-13d1-4fc7-be29-bc819672bba9",
   "metadata": {},
   "source": [
    "**Ejemplo:**"
   ]
  },
  {
   "cell_type": "code",
   "execution_count": null,
   "id": "efcbf936-5390-4ea5-ab6b-663fbcff4459",
   "metadata": {},
   "outputs": [],
   "source": [
    "def calcular_cac(marketing_expense, num_customers):\n",
    "    \"\"\"Calcula el Costo de Adquisición de Clientes.\"\"\"\n",
    "    return marketing_expense / num_customers\n",
    "\n",
    "# Uso de la función\n",
    "cac = calcular_cac(5000, 100)\n",
    "print(f\"El CAC es: {cac}\")"
   ]
  },
  {
   "cell_type": "markdown",
   "id": "368d46d4-dad8-4e33-88e8-73fbd9138aef",
   "metadata": {},
   "source": [
    "### **3. Preparación de datos (15 minutos)**\n",
    "\n",
    "1. **Carga de datos:** Los estudiantes cargarán los datasets proporcionados:"
   ]
  },
  {
   "cell_type": "code",
   "execution_count": 3,
   "id": "f38beda6-62b6-4972-a1f3-96b00a4e0f6c",
   "metadata": {
    "tags": []
   },
   "outputs": [],
   "source": [
    "import pandas as pd\n",
    "\n",
    "customers_ids = pd.read_csv('data/customer_ids.csv')\n",
    "purchases = pd.read_csv('data/purchases.csv')\n",
    "marketing_expenses = pd.read_csv('data/marketing_expenses.csv')"
   ]
  },
  {
   "cell_type": "markdown",
   "id": "6e1ea3fe-56b4-483e-9af9-ea8c914adabe",
   "metadata": {},
   "source": [
    "2. **Exploración inicial:**\n",
    "- Inspeccionar las primeras filas de cada DataFrame:"
   ]
  },
  {
   "cell_type": "code",
   "execution_count": null,
   "id": "9e567834-60d6-492d-86eb-e23be505f0a0",
   "metadata": {
    "tags": []
   },
   "outputs": [],
   "source": [
    "print(customers_ids.head())"
   ]
  },
  {
   "cell_type": "code",
   "execution_count": null,
   "id": "add3424d-89d3-4243-ac5c-aa2cf8bee3cc",
   "metadata": {
    "tags": []
   },
   "outputs": [],
   "source": [
    "print(purchases.head())"
   ]
  },
  {
   "cell_type": "code",
   "execution_count": null,
   "id": "846518ad-f4f5-4a4a-a0d0-f6b29f5d1c13",
   "metadata": {
    "tags": []
   },
   "outputs": [],
   "source": [
    "print(marketing_expenses.head())"
   ]
  },
  {
   "cell_type": "markdown",
   "id": "36ecdd5f-73ea-45ee-97bb-5dae0d96db7c",
   "metadata": {},
   "source": [
    "- Revisar la estructura y tipos de datos:"
   ]
  },
  {
   "cell_type": "code",
   "execution_count": null,
   "id": "4a36af53-4a95-40ad-ae51-b56fbe64fc6c",
   "metadata": {
    "tags": []
   },
   "outputs": [],
   "source": [
    "customers_ids.info()"
   ]
  },
  {
   "cell_type": "code",
   "execution_count": null,
   "id": "cfede826-c004-4cf4-aca6-7db2f3d70f51",
   "metadata": {
    "tags": []
   },
   "outputs": [],
   "source": [
    "purchases.info()"
   ]
  },
  {
   "cell_type": "code",
   "execution_count": null,
   "id": "5d7bcd2d-1830-4c93-9ec5-51f03f958bd5",
   "metadata": {
    "tags": []
   },
   "outputs": [],
   "source": [
    "marketing_expenses.info()"
   ]
  },
  {
   "cell_type": "markdown",
   "id": "327b5fa8-b57b-47c7-afde-c39e489097a9",
   "metadata": {},
   "source": [
    "3. **Unión de datasets:** Integrar los datos necesarios para el análisis:"
   ]
  },
  {
   "cell_type": "code",
   "execution_count": null,
   "id": "db6dc6fc-582d-4a4f-b5bd-e43115e359ce",
   "metadata": {
    "tags": []
   },
   "outputs": [],
   "source": [
    "customer_purchases = purchases.merge(customers_ids, on='customer_id', how='inner')\n",
    "print(customer_purchases.head())"
   ]
  },
  {
   "cell_type": "markdown",
   "id": "5e43b944-ab11-4e9b-b1f2-704e5e63cc7a",
   "metadata": {},
   "source": [
    "---"
   ]
  },
  {
   "cell_type": "markdown",
   "id": "6a0924dc-609b-40d8-81f6-cd5ea7560384",
   "metadata": {},
   "source": [
    "### **4. Cálculo de KPIs (40 minutos)**\n",
    "\n",
    "#### **4.1. Costo de Adquisición de Clientes (CAC):**\n",
    "1. **Calcular clientes nuevos por mes:**"
   ]
  },
  {
   "cell_type": "code",
   "execution_count": 11,
   "id": "9ac9cce9-de2a-4128-8af1-a30819536e66",
   "metadata": {
    "tags": []
   },
   "outputs": [],
   "source": [
    "new_customers = customers_ids.groupby('join_date').count()"
   ]
  },
  {
   "cell_type": "markdown",
   "id": "47b65510-c12f-4c29-9572-141e3925ae1a",
   "metadata": {},
   "source": [
    "2. **Unir con los gastos de marketing:**"
   ]
  },
  {
   "cell_type": "code",
   "execution_count": 12,
   "id": "b5f65bbd-b0e2-43de-ac1c-ab80b20bbc90",
   "metadata": {
    "tags": []
   },
   "outputs": [],
   "source": [
    "marketing_expenses.rename(columns={'month': 'join_date'}, inplace=True)"
   ]
  },
  {
   "cell_type": "code",
   "execution_count": 13,
   "id": "0d0d5c0c-a483-4c88-9bc1-ff4acff17027",
   "metadata": {
    "tags": []
   },
   "outputs": [],
   "source": [
    "cac_table = marketing_expenses.join(new_customers, on='join_date')\n",
    "cac_table['cac'] = cac_table['marketing_expense'] / cac_table['customer_id']"
   ]
  },
  {
   "cell_type": "markdown",
   "id": "0f63d14f-4a14-4bf0-98ca-42e57612d8af",
   "metadata": {},
   "source": [
    "3. **Visualizar el CAC:**"
   ]
  },
  {
   "cell_type": "code",
   "execution_count": null,
   "id": "c1fb6565-5c5c-46d2-ac01-3c0c5a988160",
   "metadata": {
    "tags": []
   },
   "outputs": [],
   "source": [
    "cac_table.plot(x='join_date', y='cac', title='Costo de Adquisición de Clientes por Mes')"
   ]
  },
  {
   "cell_type": "markdown",
   "id": "4b340149-e23c-44e8-979c-1497cf0889cb",
   "metadata": {},
   "source": [
    "#### **4.2. Valor de Vida del Cliente a 2 años (LTV 2 años):**\n",
    "1. **Calcular el total de compras por cliente de los primeros 24 meses:**"
   ]
  },
  {
   "cell_type": "code",
   "execution_count": 15,
   "id": "fde5e455-1918-450e-a214-f4b91cb8d25a",
   "metadata": {
    "tags": []
   },
   "outputs": [],
   "source": [
    "customer_purchases['tenure_months'] = (\n",
    "    pd.to_datetime(customer_purchases['purchase_date']).dt.to_period('M') -\n",
    "    pd.to_datetime(customer_purchases['join_date']).dt.to_period('M')\n",
    ").apply(lambda x: x.n)"
   ]
  },
  {
   "cell_type": "code",
   "execution_count": null,
   "id": "2d06abbf-03b7-471c-83a2-f5b52b7dca24",
   "metadata": {
    "tags": []
   },
   "outputs": [],
   "source": [
    "ltv_24_months = customer_purchases[customer_purchases['tenure_months'] <= 24]\n",
    "customer_ltv = ltv_24_months.groupby('customer_id')['purchase_amount'].sum()\n",
    "print(customer_ltv.head())"
   ]
  },
  {
   "cell_type": "markdown",
   "id": "0136250c-5b5c-4faf-a771-2f9e8e7a891d",
   "metadata": {},
   "source": [
    "2. **Promedio de LTV por cohort:**"
   ]
  },
  {
   "cell_type": "code",
   "execution_count": null,
   "id": "b304f992-f2ae-42bb-adf8-3b65754e2e8d",
   "metadata": {
    "tags": []
   },
   "outputs": [],
   "source": [
    "cohort_ltv = ltv_24_months.groupby('join_date')['purchase_amount'].mean()\n",
    "cohort_ltv.plot(title='LTV Promedio por Cohort')"
   ]
  },
  {
   "cell_type": "markdown",
   "id": "5bc2a66d-1b95-4440-9d13-a65e0c1c66dc",
   "metadata": {},
   "source": [
    "#### **4.3. Identificar clientes y cohorts destacados:**\n",
    "- Cliente con mayor LTV:"
   ]
  },
  {
   "cell_type": "code",
   "execution_count": null,
   "id": "c2ede230-4a80-494d-b468-39755028d473",
   "metadata": {
    "tags": []
   },
   "outputs": [],
   "source": [
    "top_customer = customer_ltv.idxmax()\n",
    "print(f\"El cliente con mayor LTV es: {top_customer}\")"
   ]
  },
  {
   "cell_type": "markdown",
   "id": "6839660e-a165-4a84-a438-c40711b27e89",
   "metadata": {},
   "source": [
    "- Cohort con mayor LTV promedio:"
   ]
  },
  {
   "cell_type": "code",
   "execution_count": null,
   "id": "4a94fad0-44f0-4710-aa59-b104cfa0eaeb",
   "metadata": {
    "tags": []
   },
   "outputs": [],
   "source": [
    "top_cohort = cohort_ltv.idxmax()\n",
    "print(f\"El cohort con mayor LTV promedio es: {top_cohort}\")"
   ]
  },
  {
   "cell_type": "markdown",
   "id": "a5f89c38-5212-49fa-8395-b3119055ca09",
   "metadata": {},
   "source": [
    "\n",
    "---"
   ]
  },
  {
   "cell_type": "markdown",
   "id": "67cd38f8-267b-4684-ba7d-1bd85a59547b",
   "metadata": {},
   "source": [
    "### **5. Análisis estratégico (20 minutos)**\n",
    "\n",
    "**Discusión en grupos de 3 personas:**\n",
    "- Cada grupo analiza los resultados obtenidos y responde:\n",
    "- ¿Qué estrategias implementarían para reducir el CAC?\n",
    "- ¿Cómo podrían aumentar el LTV de los clientes?\n",
    "\n",
    "**Presentación:**\n",
    "- Cada grupo menciona una estrategia basada en los datos obtenidos.\n",
    "\n",
    "**Instrucciones para el reporte de laboratorio:**\n",
    "\n",
    "- Cada estudiante debe crear un reporte en Jupyter Notebook que contenga:\n",
    "\n",
    "    - Introducción al caso y explicación de los KPIs calculados.\n",
    "\n",
    "    - Código utilizado para calcular el CAC y LTV.\n",
    "\n",
    "    - Visualizaciones generadas (gráficas de CAC y LTV por cohort).\n",
    "\n",
    "    - Respuestas a las preguntas clave:\n",
    "\n",
    "        - ¿Cuál es el cliente con mayor LTV?\n",
    "\n",
    "        - ¿Cuál es el cohort con el mayor LTV promedio?\n",
    "\n",
    "    - Una propuesta breve de estrategias para reducir el CAC y aumentar el LTV.\n",
    "\n",
    "- Entrega:\n",
    "\n",
    "    - Subir el archivo .ipynb con el reporte a Canvas antes de la próxima sesión.\n",
    "\n",
    "\n",
    "\n",
    "---"
   ]
  },
  {
   "cell_type": "markdown",
   "id": "a6b7f4da-ffef-425e-b864-b84c3dad2a2a",
   "metadata": {},
   "source": [
    "### **6. Cierre y asignación (5 minutos)**\n",
    "\n",
    "- **Reflexión:**\n",
    "    - Repasar cómo los KPIs calculados pueden influir en decisiones estratégicas.\n",
    "    - Enfatizar la importancia de un análisis basado en datos.\n",
    "- **Asignación:**\n",
    "    - Investigar un caso real donde se utilicen KPIs como CAC y LTV para tomar decisiones."
   ]
  }
 ],
 "metadata": {
  "kernelspec": {
   "display_name": "Python 3",
   "language": "python",
   "name": "python3"
  },
  "language_info": {
   "codemirror_mode": {
    "name": "ipython",
    "version": 3
   },
   "file_extension": ".py",
   "mimetype": "text/x-python",
   "name": "python",
   "nbconvert_exporter": "python",
   "pygments_lexer": "ipython3",
   "version": "3.12.8"
  }
 },
 "nbformat": 4,
 "nbformat_minor": 5
}
